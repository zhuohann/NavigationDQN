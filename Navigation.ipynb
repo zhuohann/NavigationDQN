{
 "cells": [
  {
   "cell_type": "markdown",
   "metadata": {},
   "source": [
    "# Navigation\n",
    "\n",
    "---\n",
    "\n",
    "In this notebook, you will learn how to use the Unity ML-Agents environment for the first project of the [Deep Reinforcement Learning Nanodegree](https://www.udacity.com/course/deep-reinforcement-learning-nanodegree--nd893).\n",
    "\n",
    "### 1. Start the Environment\n",
    "\n",
    "We begin by importing some necessary packages.  If the code cell below returns an error, please revisit the project instructions to double-check that you have installed [Unity ML-Agents](https://github.com/Unity-Technologies/ml-agents/blob/master/docs/Installation.md) and [NumPy](http://www.numpy.org/)."
   ]
  },
  {
   "cell_type": "code",
   "execution_count": 1,
   "metadata": {},
   "outputs": [],
   "source": [
    "\n",
    "from unityagents import UnityEnvironment\n",
    "import numpy as np\n",
    "from collections import deque\n",
    "import matplotlib.pyplot as plt\n",
    "import torch\n",
    "from dqn_agent import Agent\n",
    "\n",
    "\n",
    "\n"
   ]
  },
  {
   "cell_type": "markdown",
   "metadata": {},
   "source": [
    "Next, we will start the environment!  **_Before running the code cell below_**, change the `file_name` parameter to match the location of the Unity environment that you downloaded.\n",
    "\n",
    "- **Mac**: `\"path/to/Banana.app\"`\n",
    "- **Windows** (x86): `\"path/to/Banana_Windows_x86/Banana.exe\"`\n",
    "- **Windows** (x86_64): `\"path/to/Banana_Windows_x86_64/Banana.exe\"`\n",
    "- **Linux** (x86): `\"path/to/Banana_Linux/Banana.x86\"`\n",
    "- **Linux** (x86_64): `\"path/to/Banana_Linux/Banana.x86_64\"`\n",
    "- **Linux** (x86, headless): `\"path/to/Banana_Linux_NoVis/Banana.x86\"`\n",
    "- **Linux** (x86_64, headless): `\"path/to/Banana_Linux_NoVis/Banana.x86_64\"`\n",
    "\n",
    "For instance, if you are using a Mac, then you downloaded `Banana.app`.  If this file is in the same folder as the notebook, then the line below should appear as follows:\n",
    "```\n",
    "env = UnityEnvironment(file_name=\"Banana.app\")\n",
    "```"
   ]
  },
  {
   "cell_type": "code",
   "execution_count": 2,
   "metadata": {},
   "outputs": [
    {
     "name": "stderr",
     "output_type": "stream",
     "text": [
      "INFO:unityagents:\n",
      "'Academy' started successfully!\n",
      "Unity Academy name: Academy\n",
      "        Number of Brains: 1\n",
      "        Number of External Brains : 1\n",
      "        Lesson number : 0\n",
      "        Reset Parameters :\n",
      "\t\t\n",
      "Unity brain name: BananaBrain\n",
      "        Number of Visual Observations (per agent): 0\n",
      "        Vector Observation space type: continuous\n",
      "        Vector Observation space size (per agent): 37\n",
      "        Number of stacked Vector Observation: 1\n",
      "        Vector Action space type: discrete\n",
      "        Vector Action space size (per agent): 4\n",
      "        Vector Action descriptions: , , , \n"
     ]
    }
   ],
   "source": [
    "env = UnityEnvironment(file_name=\"Banana_Windows_x86_64/Banana.exe\")"
   ]
  },
  {
   "cell_type": "markdown",
   "metadata": {},
   "source": [
    "Environments contain **_brains_** which are responsible for deciding the actions of their associated agents. Here we check for the first brain available, and set it as the default brain we will be controlling from Python."
   ]
  },
  {
   "cell_type": "code",
   "execution_count": 3,
   "metadata": {},
   "outputs": [],
   "source": [
    "# get the default brain\n",
    "brain_name = env.brain_names[0]\n",
    "brain = env.brains[brain_name]"
   ]
  },
  {
   "cell_type": "markdown",
   "metadata": {},
   "source": [
    "### 2. Examine the State and Action Spaces\n",
    "\n",
    "The simulation contains a single agent that navigates a large environment.  At each time step, it has four actions at its disposal:\n",
    "- `0` - walk forward \n",
    "- `1` - walk backward\n",
    "- `2` - turn left\n",
    "- `3` - turn right\n",
    "\n",
    "The state space has `37` dimensions and contains the agent's velocity, along with ray-based perception of objects around agent's forward direction.  A reward of `+1` is provided for collecting a yellow banana, and a reward of `-1` is provided for collecting a blue banana. \n",
    "\n",
    "Run the code cell below to print some information about the environment."
   ]
  },
  {
   "cell_type": "code",
   "execution_count": 4,
   "metadata": {},
   "outputs": [
    {
     "name": "stdout",
     "output_type": "stream",
     "text": [
      "Number of agents: 1\n",
      "Number of actions: 4\n",
      "States look like: [1.         0.         0.         0.         0.84408134 0.\n",
      " 0.         1.         0.         0.0748472  0.         1.\n",
      " 0.         0.         0.25755    1.         0.         0.\n",
      " 0.         0.74177343 0.         1.         0.         0.\n",
      " 0.25854847 0.         0.         1.         0.         0.09355672\n",
      " 0.         1.         0.         0.         0.31969345 0.\n",
      " 0.        ]\n",
      "States have length: 37\n"
     ]
    }
   ],
   "source": [
    "# reset the environment\n",
    "from dqn_agent import Agent\n",
    "env_info = env.reset(train_mode=False)[brain_name]\n",
    "\n",
    "# number of agents in the environment\n",
    "print('Number of agents:', len(env_info.agents))\n",
    "\n",
    "# number of actions\n",
    "action_size = brain.vector_action_space_size\n",
    "print('Number of actions:', action_size)\n",
    "\n",
    "# examine the state space \n",
    "state = env_info.vector_observations[0]\n",
    "print('States look like:', state)\n",
    "state_size = len(state)\n",
    "print('States have length:', state_size)"
   ]
  },
  {
   "cell_type": "markdown",
   "metadata": {},
   "source": [
    "### 3. Take Random Actions in the Environment\n",
    "\n",
    "In the next code cell, you will learn how to use the Python API to control the agent and receive feedback from the environment.\n",
    "\n",
    "Once this cell is executed, you will watch the agent's performance, if it selects an action (uniformly) at random with each time step.  A window should pop up that allows you to observe the agent, as it moves through the environment.  \n",
    "\n",
    "Of course, as part of the project, you'll have to change the code so that the agent is able to use its experience to gradually choose better actions when interacting with the environment!"
   ]
  },
  {
   "cell_type": "code",
   "execution_count": 8,
   "metadata": {},
   "outputs": [
    {
     "name": "stdout",
     "output_type": "stream",
     "text": [
      "Score: 8.0\n",
      "300\n"
     ]
    }
   ],
   "source": [
    "\n",
    "env_info = env.reset(train_mode=False)[brain_name] # reset the environment\n",
    "state = env_info.vector_observations[0]            # get the current state\n",
    "score = 0                                          # initialize the score\n",
    "runs = 0\n",
    "while True:\n",
    "    action = agent.act(state)        # select an action\n",
    "    env_info = env.step(action.astype(int))[brain_name]       # send the action to the environment\n",
    "    next_state = env_info.vector_observations[0]   # get the next state\n",
    "    reward = env_info.rewards[0]                   # get the reward\n",
    "    done = env_info.local_done[0]                  # see if episode has finished\n",
    "    score += reward                                # update the score\n",
    "    state = next_state                             # roll over the state to next time step\n",
    "    runs = runs+ 1;\n",
    "    if done:                                       # exit loop if episode finished\n",
    "        break\n",
    "    \n",
    "print(\"Score: {}\".format(score))\n"
   ]
  },
  {
   "cell_type": "markdown",
   "metadata": {},
   "source": [
    "When finished, you can close the environment."
   ]
  },
  {
   "cell_type": "code",
   "execution_count": 12,
   "metadata": {},
   "outputs": [],
   "source": [
    "env.close()"
   ]
  },
  {
   "cell_type": "markdown",
   "metadata": {},
   "source": [
    "### 4. It's Your Turn!\n",
    "\n",
    "Now it's your turn to train your own agent to solve the environment!  When training the environment, set `train_mode=True`, so that the line for resetting the environment looks like the following:\n",
    "```python\n",
    "env_info = env.reset(train_mode=True)[brain_name]\n",
    "```"
   ]
  },
  {
   "cell_type": "code",
   "execution_count": 1,
   "metadata": {},
   "outputs": [],
   "source": [
    "from unityagents import UnityEnvironment\n",
    "import numpy as np\n",
    "from collections import deque\n",
    "import matplotlib.pyplot as plt\n",
    "import torch\n",
    "from dqn_agent import Agent"
   ]
  },
  {
   "cell_type": "code",
   "execution_count": 2,
   "metadata": {},
   "outputs": [
    {
     "name": "stderr",
     "output_type": "stream",
     "text": [
      "INFO:unityagents:\n",
      "'Academy' started successfully!\n",
      "Unity Academy name: Academy\n",
      "        Number of Brains: 1\n",
      "        Number of External Brains : 1\n",
      "        Lesson number : 0\n",
      "        Reset Parameters :\n",
      "\t\t\n",
      "Unity brain name: BananaBrain\n",
      "        Number of Visual Observations (per agent): 0\n",
      "        Vector Observation space type: continuous\n",
      "        Vector Observation space size (per agent): 37\n",
      "        Number of stacked Vector Observation: 1\n",
      "        Vector Action space type: discrete\n",
      "        Vector Action space size (per agent): 4\n",
      "        Vector Action descriptions: , , , \n"
     ]
    }
   ],
   "source": [
    "env = UnityEnvironment(file_name=\"Banana_Windows_x86_64/Banana.exe\")"
   ]
  },
  {
   "cell_type": "code",
   "execution_count": 3,
   "metadata": {},
   "outputs": [],
   "source": [
    "# get the default brain\n",
    "brain_name = env.brain_names[0]\n",
    "brain = env.brains[brain_name]"
   ]
  },
  {
   "cell_type": "code",
   "execution_count": 4,
   "metadata": {},
   "outputs": [],
   "source": [
    "def dqn(n_episodes=3000, max_t=300, eps_start=1.0, eps_end=0.01, eps_decay=0.995):\n",
    "    scores_window = deque(maxlen=100)\n",
    "    scores = [] \n",
    "    reward = 0\n",
    "    env_info = env.reset(train_mode=True)[brain_name]  # reset the environment\n",
    "    state = env_info.vector_observations[0]            # get the current state                      \n",
    "    eps = eps_start                                    # initialize epsilon  \n",
    "    state_size = len(state)\n",
    "    action_size = brain.vector_action_space_size\n",
    "    agent = Agent(state_size, action_size, seed=0)\n",
    "    for i_episode in range(1, n_episodes+1):\n",
    "        env_info = env.reset(train_mode=True)[brain_name]\n",
    "        score = 0\n",
    "        for t in range(max_t):\n",
    "            action = agent.act(state, eps)\n",
    "            env_info = env.step(action.astype(int))[brain_name]  \n",
    "            next_state = env_info.vector_observations[0]   # get the next state\n",
    "            reward = env_info.rewards[0]                   # get the reward\n",
    "            done = env_info.local_done[0]\n",
    "            agent.step(state, action, reward, next_state, done)\n",
    "            state = next_state\n",
    "            score += reward\n",
    "            if done:\n",
    "                break \n",
    "        scores_window.append(score)       # save most recent score\n",
    "        scores.append(score)              # save most recent score\n",
    "        eps = max(eps_end, eps_decay*eps) # decrease epsilon\n",
    "        if i_episode % 10 == 0:\n",
    "            print(\"{}th score: {}\".format(i_episode,score)) #prints the score for every 10th run\n",
    "        if np.mean(scores_window)>=15:\n",
    "            print('\\nEnvironment solved in {:d} episodes!\\tAverage Score: {:.2f}'.format(i_episode, np.mean(scores_window)))\n",
    "            torch.save(agent.qnetwork_local.state_dict(), 'model.pt')\n",
    "            break\n",
    "    torch.save(agent.qnetwork_local.state_dict(), 'model.pt')\n",
    "    return scores\n"
   ]
  },
  {
   "cell_type": "code",
   "execution_count": 5,
   "metadata": {},
   "outputs": [
    {
     "name": "stdout",
     "output_type": "stream",
     "text": [
      "10th score: 1.0\n",
      "20th score: -1.0\n",
      "30th score: -2.0\n",
      "40th score: 0.0\n",
      "50th score: -1.0\n",
      "60th score: -4.0\n",
      "70th score: -4.0\n",
      "80th score: -5.0\n",
      "90th score: -1.0\n",
      "100th score: 1.0\n",
      "110th score: -1.0\n",
      "120th score: 1.0\n",
      "130th score: 2.0\n",
      "140th score: 2.0\n",
      "150th score: 4.0\n",
      "160th score: 1.0\n",
      "170th score: 1.0\n",
      "180th score: 5.0\n",
      "190th score: -1.0\n",
      "200th score: 3.0\n",
      "210th score: -2.0\n",
      "220th score: 6.0\n",
      "230th score: -2.0\n",
      "240th score: 2.0\n",
      "250th score: 5.0\n",
      "260th score: 3.0\n",
      "270th score: 2.0\n",
      "280th score: -1.0\n",
      "290th score: 6.0\n",
      "300th score: 1.0\n",
      "310th score: 3.0\n",
      "320th score: 5.0\n",
      "330th score: 0.0\n",
      "340th score: 1.0\n",
      "350th score: 3.0\n",
      "360th score: 4.0\n",
      "370th score: 4.0\n",
      "380th score: 9.0\n",
      "390th score: 4.0\n",
      "400th score: 5.0\n",
      "410th score: 3.0\n",
      "420th score: 4.0\n",
      "430th score: 1.0\n",
      "440th score: 1.0\n",
      "450th score: 3.0\n",
      "460th score: 2.0\n",
      "470th score: 2.0\n",
      "480th score: 4.0\n",
      "490th score: 1.0\n",
      "500th score: 8.0\n",
      "510th score: 1.0\n",
      "520th score: 6.0\n",
      "530th score: 1.0\n",
      "540th score: 4.0\n",
      "550th score: 4.0\n",
      "560th score: 5.0\n",
      "570th score: 2.0\n",
      "580th score: 7.0\n",
      "590th score: 13.0\n",
      "600th score: 4.0\n",
      "610th score: 7.0\n",
      "620th score: 3.0\n",
      "630th score: 6.0\n",
      "640th score: 9.0\n",
      "650th score: -1.0\n",
      "660th score: 4.0\n",
      "670th score: 1.0\n",
      "680th score: 1.0\n",
      "690th score: 1.0\n",
      "700th score: 8.0\n",
      "710th score: 11.0\n",
      "720th score: 10.0\n",
      "730th score: 4.0\n",
      "740th score: 5.0\n",
      "750th score: 5.0\n",
      "760th score: 7.0\n",
      "770th score: 9.0\n",
      "780th score: 0.0\n",
      "790th score: 2.0\n",
      "800th score: 6.0\n",
      "810th score: 6.0\n",
      "820th score: 7.0\n",
      "830th score: 8.0\n",
      "840th score: 0.0\n",
      "850th score: 10.0\n",
      "860th score: 6.0\n",
      "870th score: 9.0\n",
      "880th score: 10.0\n",
      "890th score: 5.0\n",
      "900th score: 0.0\n",
      "910th score: 6.0\n",
      "920th score: 7.0\n",
      "930th score: 4.0\n",
      "940th score: 13.0\n",
      "950th score: 16.0\n",
      "960th score: -1.0\n",
      "970th score: 4.0\n",
      "980th score: 12.0\n",
      "990th score: 3.0\n",
      "1000th score: 1.0\n",
      "1010th score: 6.0\n",
      "1020th score: 7.0\n",
      "1030th score: 7.0\n",
      "1040th score: 2.0\n",
      "1050th score: 7.0\n",
      "1060th score: 4.0\n",
      "1070th score: 5.0\n",
      "1080th score: 3.0\n",
      "1090th score: 11.0\n",
      "1100th score: 3.0\n",
      "1110th score: 13.0\n",
      "1120th score: 6.0\n",
      "1130th score: 2.0\n",
      "1140th score: 2.0\n",
      "1150th score: 15.0\n",
      "1160th score: 10.0\n",
      "1170th score: 2.0\n",
      "1180th score: 4.0\n",
      "1190th score: 2.0\n",
      "1200th score: 0.0\n",
      "1210th score: 8.0\n",
      "1220th score: 14.0\n",
      "1230th score: 11.0\n",
      "1240th score: 12.0\n",
      "1250th score: 8.0\n",
      "1260th score: 6.0\n",
      "1270th score: 3.0\n",
      "1280th score: -1.0\n",
      "1290th score: 1.0\n",
      "1300th score: 12.0\n",
      "1310th score: 0.0\n",
      "1320th score: 6.0\n",
      "1330th score: 4.0\n",
      "1340th score: 0.0\n",
      "1350th score: 2.0\n",
      "1360th score: 3.0\n",
      "1370th score: 4.0\n",
      "1380th score: 0.0\n",
      "1390th score: 12.0\n",
      "1400th score: 6.0\n",
      "1410th score: 9.0\n",
      "1420th score: 3.0\n",
      "1430th score: 17.0\n",
      "1440th score: 11.0\n",
      "1450th score: 0.0\n",
      "1460th score: 4.0\n",
      "1470th score: 4.0\n",
      "1480th score: 12.0\n",
      "1490th score: 0.0\n",
      "1500th score: 15.0\n",
      "1510th score: 4.0\n",
      "1520th score: 6.0\n",
      "1530th score: 11.0\n",
      "1540th score: 0.0\n",
      "1550th score: 0.0\n",
      "1560th score: 4.0\n",
      "1570th score: 11.0\n",
      "1580th score: 2.0\n",
      "1590th score: 8.0\n",
      "1600th score: 12.0\n",
      "1610th score: 8.0\n",
      "1620th score: 2.0\n",
      "1630th score: 2.0\n",
      "1640th score: 8.0\n",
      "1650th score: 11.0\n",
      "1660th score: 8.0\n",
      "1670th score: 11.0\n",
      "1680th score: 0.0\n",
      "1690th score: 2.0\n",
      "1700th score: 4.0\n",
      "1710th score: 13.0\n",
      "1720th score: 5.0\n",
      "1730th score: 8.0\n",
      "1740th score: 10.0\n",
      "1750th score: 7.0\n",
      "1760th score: 10.0\n",
      "1770th score: 14.0\n",
      "1780th score: 12.0\n",
      "1790th score: 13.0\n",
      "1800th score: 8.0\n",
      "1810th score: 12.0\n",
      "1820th score: 6.0\n",
      "1830th score: 3.0\n",
      "1840th score: 17.0\n",
      "1850th score: 16.0\n",
      "1860th score: 9.0\n",
      "1870th score: 18.0\n",
      "1880th score: 12.0\n",
      "1890th score: 15.0\n",
      "1900th score: 14.0\n",
      "1910th score: 13.0\n",
      "1920th score: 9.0\n",
      "1930th score: 11.0\n",
      "1940th score: 18.0\n",
      "1950th score: 12.0\n",
      "1960th score: 16.0\n",
      "1970th score: 5.0\n",
      "1980th score: 16.0\n",
      "1990th score: 9.0\n",
      "2000th score: 6.0\n",
      "2010th score: 19.0\n",
      "2020th score: 14.0\n",
      "2030th score: 12.0\n",
      "2040th score: 13.0\n",
      "2050th score: 20.0\n",
      "2060th score: 7.0\n",
      "2070th score: 10.0\n",
      "2080th score: 14.0\n",
      "2090th score: 13.0\n",
      "2100th score: 15.0\n",
      "2110th score: 7.0\n",
      "2120th score: 10.0\n",
      "2130th score: 18.0\n",
      "2140th score: 15.0\n",
      "2150th score: 16.0\n",
      "2160th score: 11.0\n",
      "2170th score: 18.0\n",
      "2180th score: 14.0\n",
      "2190th score: 16.0\n",
      "2200th score: 20.0\n",
      "2210th score: 5.0\n",
      "2220th score: 17.0\n",
      "2230th score: 6.0\n",
      "2240th score: 13.0\n",
      "2250th score: 11.0\n",
      "2260th score: 13.0\n",
      "2270th score: 16.0\n",
      "2280th score: 16.0\n",
      "2290th score: 20.0\n",
      "2300th score: 15.0\n",
      "2310th score: 10.0\n",
      "2320th score: 21.0\n",
      "\n",
      "Environment solved in 2321 episodes!\tAverage Score: 15.08\n"
     ]
    }
   ],
   "source": [
    "scores = dqn() #Starts training\n",
    "env.close()    #Closes the enviroment"
   ]
  },
  {
   "cell_type": "code",
   "execution_count": 7,
   "metadata": {},
   "outputs": [
    {
     "data": {
      "image/png": "[encoded data removed]",
      "text/plain": [
       "<Figure size 432x288 with 1 Axes>"
      ]
     },
     "metadata": {
      "needs_background": "light"
     },
     "output_type": "display_data"
    }
   ],
   "source": [
    "nEpisodes = len(scores)\n",
    "size = 100\n",
    "Episodes = list(range(nEpisodes ))\n",
    "plt.plot(Episodes,scores) #plots the scores\n",
    "SMA = [0]*nEpisodes \n",
    "for x in range(nEpisodes ):\n",
    "    if x+1 > size:\n",
    "        SMA[x] = sum(scores[(x-size):x + 1])/size\n",
    "        \n",
    "plt.plot(Episodes,SMA)  #plots SMA\n",
    "plt.xlim(0,nEpisodes )\n",
    "plt.xlabel(\"No. of episodes\")\n",
    "plt.ylabel(\"Score\")\n",
    "plt.title(\"Score vs No. of episodes\")\n",
    "plt.savefig('Result.png',bbox_inches=\"tight\")"
   ]
  },
  {
   "cell_type": "code",
   "execution_count": null,
   "metadata": {},
   "outputs": [],
   "source": [
    "\n"
   ]
  },
  {
   "cell_type": "code",
   "execution_count": null,
   "metadata": {},
   "outputs": [],
   "source": []
  }
 ],
 "metadata": {
  "kernelspec": {
   "display_name": "drlnd",
   "language": "python",
   "name": "drlnd"
  },
  "language_info": {
   "codemirror_mode": {
    "name": "ipython",
    "version": 3
   },
   "file_extension": ".py",
   "mimetype": "text/x-python",
   "name": "python",
   "nbconvert_exporter": "python",
   "pygments_lexer": "ipython3",
   "version": "3.7.3"
  }
 },
 "nbformat": 4,
 "nbformat_minor": 2
}
